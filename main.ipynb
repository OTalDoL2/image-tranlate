{
 "cells": [
  {
   "cell_type": "code",
   "execution_count": 2,
   "metadata": {
    "tags": []
   },
   "outputs": [],
   "source": [
    "# Antes de rodar, executar o pip no terminal\n",
    "# pip install opencv-python pytesseract\n",
    "import cv2\n",
    "import pytesseract"
   ]
  },
  {
   "cell_type": "code",
   "execution_count": 18,
   "metadata": {
    "tags": []
   },
   "outputs": [],
   "source": [
    "caminho_imagem = \"./insumo/Quadro - Jujutsu Kaisen.jpg\"\n",
    "imagem = cv2.imread(caminho_imagem)"
   ]
  },
  {
   "cell_type": "code",
   "execution_count": 4,
   "metadata": {
    "tags": []
   },
   "outputs": [],
   "source": [
    "gray = cv2.cvtColor(imagem, cv2.COLOR_BGR2GRAY)"
   ]
  },
  {
   "cell_type": "code",
   "execution_count": 5,
   "metadata": {
    "tags": []
   },
   "outputs": [
    {
     "data": {
      "text/plain": [
       "array([[0, 0, 0, ..., 0, 0, 0],\n",
       "       [0, 0, 0, ..., 0, 0, 0],\n",
       "       [0, 0, 0, ..., 0, 0, 0],\n",
       "       ...,\n",
       "       [0, 0, 0, ..., 0, 0, 0],\n",
       "       [0, 0, 0, ..., 0, 0, 0],\n",
       "       [0, 0, 0, ..., 0, 0, 0]], dtype=uint8)"
      ]
     },
     "execution_count": 5,
     "metadata": {},
     "output_type": "execute_result"
    }
   ],
   "source": [
    "_, thresh = cv2.threshold(gray, 150, 255, cv2.THRESH_BINARY)\n",
    "thresh"
   ]
  },
  {
   "cell_type": "code",
   "execution_count": 6,
   "metadata": {
    "tags": []
   },
   "outputs": [],
   "source": [
    "# pytesseract.pytesseract.tesseract_cmd = r'./tesseract/tesseract.exe'\n",
    "pytesseract.pytesseract.tesseract_cmd = r'C:\\Program Files\\Tesseract-OCR\\tesseract.exe'"
   ]
  },
  {
   "cell_type": "code",
   "execution_count": 31,
   "metadata": {
    "tags": []
   },
   "outputs": [
    {
     "name": "stdout",
     "output_type": "stream",
     "text": [
      "BM L (n\n",
      "\n"
     ]
    }
   ],
   "source": [
    "config_teste = \"--oem 3 --psm 6 -l por\"\n",
    "# custom_config = r'--oem 3 --psm 7'\n",
    "\n",
    "text = pytesseract.image_to_string(caminho_imagem, lang=\"por\", config=config_teste)\n",
    "print(text)"
   ]
  },
  {
   "cell_type": "code",
   "execution_count": 8,
   "metadata": {},
   "outputs": [],
   "source": [
    "# cv2.imshow('Imagem processada', thresh)\n",
    "# cv2.waitKey(0)\n",
    "# cv2.destroyAllWindows()"
   ]
  },
  {
   "cell_type": "code",
   "execution_count": null,
   "metadata": {},
   "outputs": [],
   "source": [
    "import pytesseract\n",
    "from pytesseract import Output\n",
    "import cv2\n",
    "img = cv2.imread(caminho_imagem)\n",
    "\n",
    "d = pytesseract.image_to_data(img, output_type=Output.DICT)\n",
    "n_boxes = len(d['level'])\n",
    "for i in range(n_boxes):\n",
    "    (x, y, w, h) = (d['left'][i], d['top'][i], d['width'][i], d['height'][i])\n",
    "    cv2.rectangle(img, (x, y), (x + w, y + h), (0, 255, 0), 2)\n",
    "\n",
    "cv2.imshow('img', img)\n",
    "cv2.waitKey(0)\n",
    "img"
   ]
  },
  {
   "cell_type": "code",
   "execution_count": null,
   "metadata": {},
   "outputs": [
    {
     "data": {
      "text/plain": [
       "True"
      ]
     },
     "execution_count": 9,
     "metadata": {},
     "output_type": "execute_result"
    }
   ],
   "source": [
    "import cv2\n",
    "import pytesseract\n",
    "from pytesseract import Output\n",
    "\n",
    "img = cv2.imread(caminho_imagem, cv2.IMREAD_GRAYSCALE)\n",
    "d = pytesseract.image_to_data(img, output_type=Output.DICT)\n",
    "n_boxes = len(d['level'])\n",
    "\n",
    "for i in range(n_boxes):\n",
    "    if (d['text'][i] != \"\"):\n",
    "        (x, y, w, h) = (d['left'][i], d['top'][i], d['width'][i], d['height'][i])\n",
    "        cv2.rectangle(img, (x, y), (x + w, y + h), (0, 255, 0), 2) # in-place operation\n",
    "\n",
    "cv2.imwrite('result.png', img)"
   ]
  },
  {
   "cell_type": "code",
   "execution_count": 13,
   "metadata": {},
   "outputs": [
    {
     "name": "stdout",
     "output_type": "stream",
     "text": [
      "\n"
     ]
    }
   ],
   "source": [
    "import cv2\n",
    "import numpy as np\n",
    "\n",
    "# Carregar a imagem em escala de cinza\n",
    "gray_image = cv2.imread(caminho_imagem, cv2.IMREAD_GRAYSCALE)\n",
    "\n",
    "# Aplicar binarização (thresholding) para melhorar o contraste\n",
    "_, binary_image = cv2.threshold(gray_image, 150, 255, cv2.THRESH_BINARY)\n",
    "\n",
    "# Salvar e analisar a nova imagem processada com o Tesseract\n",
    "processed_image_path = \"result.png\"\n",
    "cv2.imwrite(processed_image_path, binary_image)\n",
    "\n",
    "# Executar OCR novamente na imagem processada\n",
    "ocr_result_processed = pytesseract.image_to_string(binary_image,  lang='por', config=config_teste)\n",
    "print(ocr_result_processed)"
   ]
  },
  {
   "cell_type": "code",
   "execution_count": 35,
   "metadata": {},
   "outputs": [
    {
     "name": "stdout",
     "output_type": "stream",
     "text": [
      " \n",
      " \n",
      " \n",
      " \n",
      "‘am\n",
      "—\n",
      "   \n",
      " \n",
      " \n",
      "WE\n",
      "CANT\n",
      "HAVE\n",
      "HIM\n",
      "BECOMNG\n",
      "A\n",
      "SHINOBI.\n",
      " \n",
      " \n",
      "  \n",
      " \n",
      " \n",
      " \n",
      " \n",
      " \n",
      " \n",
      " \n"
     ]
    },
    {
     "data": {
      "text/plain": [
       "True"
      ]
     },
     "execution_count": 35,
     "metadata": {},
     "output_type": "execute_result"
    }
   ],
   "source": [
    "import cv2\n",
    "import pytesseract\n",
    "from pytesseract import Output\n",
    "from PIL import Image, ImageDraw\n",
    "\n",
    "# Carregar a imagem\n",
    "img = cv2.imread('insumo/Naruto 1 - Naruto Chapter 1 - Naruto 1 english - MangaHere_onl.jpeg')\n",
    "\n",
    "# img = Image.open('cardapio-semanal.png')\n",
    "# draw = ImageDraw.Draw(img)\n",
    "\n",
    "# Extrair dados da imagem\n",
    "d = pytesseract.image_to_data(img, output_type=Output.DICT)\n",
    "n_boxes = len(d['level'])\n",
    "\n",
    "# Percorrer todas as bounding boxes\n",
    "for i in range(n_boxes):\n",
    "    # print(d['text'][i])\n",
    "    if d['text'][i] != \"\":\n",
    "        print(d['text'][i])\n",
    "        (x, y, w, h) = (d['left'][i], d['top'][i], d['width'][i], d['height'][i])\n",
    "        # Desenhar bounding box verde\n",
    "        # b = d['text'].split(' ')\n",
    "        # x1, y1, x2, y2 = int(b[1]), int(b[2]), int(b[3]), int(b[4])\n",
    "        # x1, y1, x2, y2 = x1, img.height - y2, x2, img.height - y1  # Ajuste de coordenadas\n",
    "        cv2.rectangle(img, (x, y), (x + w, y + h), (0, 255, 0), 2) \n",
    "        # Preencher a bounding box com branco, mantendo a borda verde \n",
    "        # cv2.rectangle(img, (x + 1, y + 1), (x + w - 1, y + h - 1), (255, 255, 255), -1) # Adicionar texto dentro da bounding box branca \n",
    "        cv2.putText(img, 'Texto', (x + 2, y + h - 5), cv2.FONT_HERSHEY_SIMPLEX, 0.5, (0, 0, 0), 1,)\n",
    "\n",
    "        # cv2.rectangle(image, (x, y), (x + w, y + h), (0, 255, 0), 2,)\n",
    "        # cv2.rectangle(img, (x, y), (x + w, y + h), (255, 255, 255), -1)\n",
    "        # # Adicionar texto dentro da bounding box\n",
    "        # # cv2.putText(image, 'Texto', (x, y + h - 5), cv2.FONT_HERSHEY_SIMPLEX, 0.5, (0, 0, 0), 1, cv2.LINE_AA)\n",
    "        # cv2.putText(image, 'Texto', (x, y + h - 5), cv2.FONT_HERSHEY_SIMPLEX, 0.5, (0, 0, 0), 1, cv2.LINE_AA)\n",
    "\n",
    "# Salvar a imagem resultante\n",
    "cv2.imwrite('result_.png', img)\n"
   ]
  },
  {
   "cell_type": "code",
   "execution_count": null,
   "metadata": {},
   "outputs": [],
   "source": [
    "from PIL import Image, ImageDraw\n",
    "import pytesseract\n",
    "\n",
    "# Carregar a imagem\n",
    "image = Image.open('cardapio-semanal.png')\n",
    "draw = ImageDraw.Draw(image)\n",
    "\n",
    "# Extrair texto e coordenadas das bounding boxes\n",
    "boxes = pytesseract.image_to_boxes(image)\n",
    "\n",
    "# Alterar a cor do fundo para azul dentro das bounding boxes\n",
    "for box in boxes.splitlines():\n",
    "    b = box.split(' ')\n",
    "    x1, y1, x2, y2 = int(b[1]), int(b[2]), int(b[3]), int(b[4])\n",
    "    x1, y1, x2, y2 = x1, image.height - y2, x2, image.height - y1  # Ajuste de coordenadas\n",
    "    draw.rectangle([x1, y1, x2, y2], fill='blue')\n",
    "\n",
    "# Salvar a nova imagem\n",
    "image.save('imagem_alterada.png')\n",
    "\n",
    "# Mostrar a imagem\n",
    "image.show()\n"
   ]
  },
  {
   "cell_type": "code",
   "execution_count": 5,
   "metadata": {},
   "outputs": [],
   "source": [
    "from PIL import Image, ImageDraw, ImageFont\n",
    "import pytesseract\n",
    "\n",
    "# Carregar a imagem\n",
    "image = Image.open('cardapio-semanal.png')\n",
    "draw = ImageDraw.Draw(image)\n",
    "\n",
    "# Fonte para escrever o texto\n",
    "font = ImageFont.truetype(\"arial.ttf\", 15)  # Certifique-se de ter uma fonte TrueType disponível\n",
    "\n",
    "# Extrair texto e coordenadas das bounding boxes\n",
    "boxes = pytesseract.image_to_boxes(image)\n",
    "\n",
    "# Alterar a cor do fundo para branco e escrever texto por cima\n",
    "for box in boxes.splitlines():\n",
    "    b = box.split(' ')\n",
    "    x1, y1, x2, y2 = int(b[1]), int(b[2]), int(b[3]), int(b[4])\n",
    "    x1, y1, x2, y2 = x1, image.height - y2, x2, image.height - y1  # Ajuste de coordenadas\n",
    "    draw.rectangle([x1, y1, x2, y2], fill='white')\n",
    "    draw.text((x1, y1), \"Texto\", font=font, fill='black')\n",
    "\n",
    "# Salvar a nova imagem\n",
    "image.save('imagem_alterada_.png')\n",
    "\n",
    "# Mostrar a imagem\n",
    "image.show()\n"
   ]
  }
 ],
 "metadata": {
  "kernelspec": {
   "display_name": "Python 3",
   "language": "python",
   "name": "python3"
  },
  "language_info": {
   "codemirror_mode": {
    "name": "ipython",
    "version": 3
   },
   "file_extension": ".py",
   "mimetype": "text/x-python",
   "name": "python",
   "nbconvert_exporter": "python",
   "pygments_lexer": "ipython3",
   "version": "3.11.4"
  }
 },
 "nbformat": 4,
 "nbformat_minor": 4
}
