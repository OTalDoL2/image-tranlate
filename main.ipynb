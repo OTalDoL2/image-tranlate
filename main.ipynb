{
 "cells": [
  {
   "cell_type": "code",
   "execution_count": 3,
   "metadata": {
    "tags": []
   },
   "outputs": [],
   "source": [
    "# Antes de rodar, executar o pip no terminal\n",
    "# pip install opencv-python pytesseract\n",
    "import cv2\n",
    "import pytesseract"
   ]
  },
  {
   "cell_type": "code",
   "execution_count": 2,
   "metadata": {
    "tags": []
   },
   "outputs": [],
   "source": [
    "caminho_imagem = \"./WhatsApp Image 2024-11-15 at 22.51.04_997c6932.jpg\"\n",
    "imagem = cv2.imread(caminho_imagem)"
   ]
  },
  {
   "cell_type": "code",
   "execution_count": 3,
   "metadata": {
    "tags": []
   },
   "outputs": [],
   "source": [
    "gray = cv2.cvtColor(imagem, cv2.COLOR_BGR2GRAY)"
   ]
  },
  {
   "cell_type": "code",
   "execution_count": 4,
   "metadata": {
    "tags": []
   },
   "outputs": [
    {
     "data": {
      "text/plain": [
       "array([[0, 0, 0, ..., 0, 0, 0],\n",
       "       [0, 0, 0, ..., 0, 0, 0],\n",
       "       [0, 0, 0, ..., 0, 0, 0],\n",
       "       ...,\n",
       "       [0, 0, 0, ..., 0, 0, 0],\n",
       "       [0, 0, 0, ..., 0, 0, 0],\n",
       "       [0, 0, 0, ..., 0, 0, 0]], dtype=uint8)"
      ]
     },
     "execution_count": 4,
     "metadata": {},
     "output_type": "execute_result"
    }
   ],
   "source": [
    "_, thresh = cv2.threshold(gray, 150, 255, cv2.THRESH_BINARY)\n",
    "thresh"
   ]
  },
  {
   "cell_type": "code",
   "execution_count": 4,
   "metadata": {
    "tags": []
   },
   "outputs": [],
   "source": [
    "# pytesseract.pytesseract.tesseract_cmd = r'./tesseract/tesseract.exe'\n",
    "pytesseract.pytesseract.tesseract_cmd = r'C:\\Program Files\\Tesseract-OCR\\tesseract.exe'"
   ]
  },
  {
   "cell_type": "code",
   "execution_count": 6,
   "metadata": {
    "tags": []
   },
   "outputs": [
    {
     "name": "stdout",
     "output_type": "stream",
     "text": [
      "1. Quem vai ser o responsavel por gerir as finangas da\n",
      "nossa casa?\n",
      "\n",
      "2. Casaremos em separacao total, comunhdao parcial\n",
      "ou comunhao total de bens?\n",
      "\n",
      "3. Conta conjunta ou conta separada?\n",
      "\n",
      "4. Como faremos a divisdo do orgamento da casa?\n",
      "5. Aproveitar ao maximo a vida agora OU poupar para\n",
      "o futuro?\n",
      "\n",
      "6. Como queremos nos aposentar?\n",
      "\n",
      "7. Qual foi o exemplo financeiro familiar que teve em\n",
      "casa? Como vamos ensinar nossos filhos\n",
      "\n",
      "8. Vamos dar o dizimo na igreja?\n",
      "\n",
      "9. Quem ira investir o dinheiro?\n",
      "IN Vincé tam dividac?\n",
      "\n"
     ]
    }
   ],
   "source": [
    "text = pytesseract.image_to_string(thresh, lang=\"eng\")\n",
    "print(text)"
   ]
  },
  {
   "cell_type": "code",
   "execution_count": 7,
   "metadata": {
    "tags": []
   },
   "outputs": [
    {
     "name": "stdout",
     "output_type": "stream",
     "text": [
      "1. Quem vai ser o responsável por gerir as finanças da\n",
      "Nhossa casa?\n",
      "\n",
      "2. Casaremos em separação total, comunhão parcial\n",
      "ou comunhão total de bens?\n",
      "\n",
      "3. Conta conjunta ou conta separada?\n",
      "\n",
      "4. Como faremos a divisão do orçamento da casa?\n",
      "5. Aproveitar ao máximo a vida agora ou poupar para\n",
      "o futuro?\n",
      "\n",
      "6. Como queremos nos aposentar?\n",
      "\n",
      "7. Qual foi o exemplo financeiro familiar que teve em\n",
      "casa? Como vamos ensinar nossos filhos\n",
      "\n",
      "8. Vamos dar o dízimo na igreja?\n",
      "\n",
      "9. Quem irá investir o dinheiro?\n",
      "\n",
      "10. Você tem dívidas?\n",
      "\n"
     ]
    }
   ],
   "source": [
    "config_teste = \"--tessdata-dir teste\"\n",
    "\n",
    "text = pytesseract.image_to_string(caminho_imagem, lang=\"por\", config=config_teste)\n",
    "print(text)"
   ]
  },
  {
   "cell_type": "code",
   "execution_count": 8,
   "metadata": {},
   "outputs": [],
   "source": [
    "# cv2.imshow('Imagem processada', thresh)\n",
    "# cv2.waitKey(0)\n",
    "# cv2.destroyAllWindows()"
   ]
  },
  {
   "cell_type": "code",
   "execution_count": 12,
   "metadata": {},
   "outputs": [
    {
     "data": {
      "text/plain": [
       "array([[[  0, 255,   0],\n",
       "        [  0, 255,   0],\n",
       "        [  0, 255,   0],\n",
       "        ...,\n",
       "        [  0, 255,   0],\n",
       "        [  0, 255,   0],\n",
       "        [  0, 255,   0]],\n",
       "\n",
       "       [[  0, 255,   0],\n",
       "        [  0, 255,   0],\n",
       "        [  0, 255,   0],\n",
       "        ...,\n",
       "        [  0, 255,   0],\n",
       "        [  0, 255,   0],\n",
       "        [  0, 255,   0]],\n",
       "\n",
       "       [[  0, 255,   0],\n",
       "        [  0, 255,   0],\n",
       "        [255, 255, 255],\n",
       "        ...,\n",
       "        [255, 255, 255],\n",
       "        [255, 255, 255],\n",
       "        [  0, 255,   0]],\n",
       "\n",
       "       ...,\n",
       "\n",
       "       [[  0, 255,   0],\n",
       "        [  0, 255,   0],\n",
       "        [255, 255, 255],\n",
       "        ...,\n",
       "        [186, 213, 232],\n",
       "        [192, 217, 233],\n",
       "        [  0, 255,   0]],\n",
       "\n",
       "       [[  0, 255,   0],\n",
       "        [  0, 255,   0],\n",
       "        [255, 255, 255],\n",
       "        ...,\n",
       "        [192, 217, 232],\n",
       "        [195, 219, 233],\n",
       "        [  0, 255,   0]],\n",
       "\n",
       "       [[  0, 255,   0],\n",
       "        [  0, 255,   0],\n",
       "        [  0, 255,   0],\n",
       "        ...,\n",
       "        [  0, 255,   0],\n",
       "        [  0, 255,   0],\n",
       "        [  0, 255,   0]]], dtype=uint8)"
      ]
     },
     "execution_count": 12,
     "metadata": {},
     "output_type": "execute_result"
    }
   ],
   "source": [
    "import pytesseract\n",
    "from pytesseract import Output\n",
    "import cv2\n",
    "img = cv2.imread('cardapio-semanal.png')\n",
    "\n",
    "d = pytesseract.image_to_data(img, output_type=Output.DICT)\n",
    "n_boxes = len(d['level'])\n",
    "for i in range(n_boxes):\n",
    "    (x, y, w, h) = (d['left'][i], d['top'][i], d['width'][i], d['height'][i])\n",
    "    cv2.rectangle(img, (x, y), (x + w, y + h), (0, 255, 0), 2)\n",
    "\n",
    "cv2.imshow('img', img)\n",
    "cv2.waitKey(0)\n",
    "img"
   ]
  },
  {
   "cell_type": "code",
   "execution_count": 13,
   "metadata": {},
   "outputs": [
    {
     "data": {
      "text/plain": [
       "True"
      ]
     },
     "execution_count": 13,
     "metadata": {},
     "output_type": "execute_result"
    }
   ],
   "source": [
    "import cv2\n",
    "import pytesseract\n",
    "from pytesseract import Output\n",
    "\n",
    "img = cv2.imread('cardapio-semanal.png')\n",
    "d = pytesseract.image_to_data(img, output_type=Output.DICT)\n",
    "n_boxes = len(d['level'])\n",
    "for i in range(n_boxes):\n",
    "    if (d['text'][i] != \"\"):\n",
    "        (x, y, w, h) = (d['left'][i], d['top'][i], d['width'][i], d['height'][i])\n",
    "        cv2.rectangle(img, (x, y), (x + w, y + h), (0, 255, 0), 2) # in-place operation\n",
    "\n",
    "cv2.imwrite('result.png', img)"
   ]
  },
  {
   "cell_type": "code",
   "execution_count": 35,
   "metadata": {},
   "outputs": [
    {
     "name": "stdout",
     "output_type": "stream",
     "text": [
      " \n",
      " \n",
      " \n",
      " \n",
      "‘am\n",
      "—\n",
      "   \n",
      " \n",
      " \n",
      "WE\n",
      "CANT\n",
      "HAVE\n",
      "HIM\n",
      "BECOMNG\n",
      "A\n",
      "SHINOBI.\n",
      " \n",
      " \n",
      "  \n",
      " \n",
      " \n",
      " \n",
      " \n",
      " \n",
      " \n",
      " \n"
     ]
    },
    {
     "data": {
      "text/plain": [
       "True"
      ]
     },
     "execution_count": 35,
     "metadata": {},
     "output_type": "execute_result"
    }
   ],
   "source": [
    "import cv2\n",
    "import pytesseract\n",
    "from pytesseract import Output\n",
    "from PIL import Image, ImageDraw\n",
    "\n",
    "# Carregar a imagem\n",
    "img = cv2.imread('insumo/Naruto 1 - Naruto Chapter 1 - Naruto 1 english - MangaHere_onl.jpeg')\n",
    "\n",
    "# img = Image.open('cardapio-semanal.png')\n",
    "# draw = ImageDraw.Draw(img)\n",
    "\n",
    "# Extrair dados da imagem\n",
    "d = pytesseract.image_to_data(img, output_type=Output.DICT)\n",
    "n_boxes = len(d['level'])\n",
    "\n",
    "# Percorrer todas as bounding boxes\n",
    "for i in range(n_boxes):\n",
    "    # print(d['text'][i])\n",
    "    if d['text'][i] != \"\":\n",
    "        print(d['text'][i])\n",
    "        (x, y, w, h) = (d['left'][i], d['top'][i], d['width'][i], d['height'][i])\n",
    "        # Desenhar bounding box verde\n",
    "        # b = d['text'].split(' ')\n",
    "        # x1, y1, x2, y2 = int(b[1]), int(b[2]), int(b[3]), int(b[4])\n",
    "        # x1, y1, x2, y2 = x1, img.height - y2, x2, img.height - y1  # Ajuste de coordenadas\n",
    "        cv2.rectangle(img, (x, y), (x + w, y + h), (0, 255, 0), 2) \n",
    "        # Preencher a bounding box com branco, mantendo a borda verde \n",
    "        # cv2.rectangle(img, (x + 1, y + 1), (x + w - 1, y + h - 1), (255, 255, 255), -1) # Adicionar texto dentro da bounding box branca \n",
    "        cv2.putText(img, 'Texto', (x + 2, y + h - 5), cv2.FONT_HERSHEY_SIMPLEX, 0.5, (0, 0, 0), 1,)\n",
    "\n",
    "        # cv2.rectangle(image, (x, y), (x + w, y + h), (0, 255, 0), 2,)\n",
    "        # cv2.rectangle(img, (x, y), (x + w, y + h), (255, 255, 255), -1)\n",
    "        # # Adicionar texto dentro da bounding box\n",
    "        # # cv2.putText(image, 'Texto', (x, y + h - 5), cv2.FONT_HERSHEY_SIMPLEX, 0.5, (0, 0, 0), 1, cv2.LINE_AA)\n",
    "        # cv2.putText(image, 'Texto', (x, y + h - 5), cv2.FONT_HERSHEY_SIMPLEX, 0.5, (0, 0, 0), 1, cv2.LINE_AA)\n",
    "\n",
    "# Salvar a imagem resultante\n",
    "cv2.imwrite('result_.png', img)\n"
   ]
  },
  {
   "cell_type": "code",
   "execution_count": null,
   "metadata": {},
   "outputs": [],
   "source": [
    "from PIL import Image, ImageDraw\n",
    "import pytesseract\n",
    "\n",
    "# Carregar a imagem\n",
    "image = Image.open('cardapio-semanal.png')\n",
    "draw = ImageDraw.Draw(image)\n",
    "\n",
    "# Extrair texto e coordenadas das bounding boxes\n",
    "boxes = pytesseract.image_to_boxes(image)\n",
    "\n",
    "# Alterar a cor do fundo para azul dentro das bounding boxes\n",
    "for box in boxes.splitlines():\n",
    "    b = box.split(' ')\n",
    "    x1, y1, x2, y2 = int(b[1]), int(b[2]), int(b[3]), int(b[4])\n",
    "    x1, y1, x2, y2 = x1, image.height - y2, x2, image.height - y1  # Ajuste de coordenadas\n",
    "    draw.rectangle([x1, y1, x2, y2], fill='blue')\n",
    "\n",
    "# Salvar a nova imagem\n",
    "image.save('imagem_alterada.png')\n",
    "\n",
    "# Mostrar a imagem\n",
    "image.show()\n"
   ]
  },
  {
   "cell_type": "code",
   "execution_count": 5,
   "metadata": {},
   "outputs": [],
   "source": [
    "from PIL import Image, ImageDraw, ImageFont\n",
    "import pytesseract\n",
    "\n",
    "# Carregar a imagem\n",
    "image = Image.open('cardapio-semanal.png')\n",
    "draw = ImageDraw.Draw(image)\n",
    "\n",
    "# Fonte para escrever o texto\n",
    "font = ImageFont.truetype(\"arial.ttf\", 15)  # Certifique-se de ter uma fonte TrueType disponível\n",
    "\n",
    "# Extrair texto e coordenadas das bounding boxes\n",
    "boxes = pytesseract.image_to_boxes(image)\n",
    "\n",
    "# Alterar a cor do fundo para branco e escrever texto por cima\n",
    "for box in boxes.splitlines():\n",
    "    b = box.split(' ')\n",
    "    x1, y1, x2, y2 = int(b[1]), int(b[2]), int(b[3]), int(b[4])\n",
    "    x1, y1, x2, y2 = x1, image.height - y2, x2, image.height - y1  # Ajuste de coordenadas\n",
    "    draw.rectangle([x1, y1, x2, y2], fill='white')\n",
    "    draw.text((x1, y1), \"Texto\", font=font, fill='black')\n",
    "\n",
    "# Salvar a nova imagem\n",
    "image.save('imagem_alterada_.png')\n",
    "\n",
    "# Mostrar a imagem\n",
    "image.show()\n"
   ]
  }
 ],
 "metadata": {
  "kernelspec": {
   "display_name": "Python 3",
   "language": "python",
   "name": "python3"
  },
  "language_info": {
   "codemirror_mode": {
    "name": "ipython",
    "version": 3
   },
   "file_extension": ".py",
   "mimetype": "text/x-python",
   "name": "python",
   "nbconvert_exporter": "python",
   "pygments_lexer": "ipython3",
   "version": "3.11.4"
  }
 },
 "nbformat": 4,
 "nbformat_minor": 4
}
