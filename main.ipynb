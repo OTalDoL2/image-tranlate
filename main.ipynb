{
 "cells": [
  {
   "cell_type": "code",
   "execution_count": 1,
   "metadata": {},
   "outputs": [],
   "source": [
    "# Antes de rodar, executar o pip no terminal\n",
    "# pip install opencv-python pytesseract\n",
    "import cv2\n",
    "import pytesseract"
   ]
  },
  {
   "cell_type": "code",
   "execution_count": 2,
   "metadata": {},
   "outputs": [],
   "source": [
    "caminho_imagem = \"./WhatsApp Image 2024-11-15 at 22.51.04_997c6932.jpg\"\n",
    "imagem = cv2.imread(caminho_imagem)"
   ]
  },
  {
   "cell_type": "code",
   "execution_count": 3,
   "metadata": {},
   "outputs": [],
   "source": [
    "gray = cv2.cvtColor(imagem, cv2.COLOR_BGR2GRAY)"
   ]
  },
  {
   "cell_type": "code",
   "execution_count": 4,
   "metadata": {},
   "outputs": [
    {
     "data": {
      "text/plain": [
       "array([[0, 0, 0, ..., 0, 0, 0],\n",
       "       [0, 0, 0, ..., 0, 0, 0],\n",
       "       [0, 0, 0, ..., 0, 0, 0],\n",
       "       ...,\n",
       "       [0, 0, 0, ..., 0, 0, 0],\n",
       "       [0, 0, 0, ..., 0, 0, 0],\n",
       "       [0, 0, 0, ..., 0, 0, 0]], dtype=uint8)"
      ]
     },
     "execution_count": 4,
     "metadata": {},
     "output_type": "execute_result"
    }
   ],
   "source": [
    "_, thresh = cv2.threshold(gray, 150, 255, cv2.THRESH_BINARY)\n",
    "thresh"
   ]
  },
  {
   "cell_type": "code",
   "execution_count": 5,
   "metadata": {},
   "outputs": [],
   "source": [
    "pytesseract.pytesseract.tesseract_cmd = r'C:\\Program Files\\Tesseract-OCR\\tesseract.exe'\n",
    "# pytesseract.pytesseract.tesseract_cmd = r'C:\\Users\\Lucas.Ramos\\AppData\\Local\\Tesseract-OCR\\tesseract.exe'"
   ]
  },
  {
   "cell_type": "code",
   "execution_count": 6,
   "metadata": {},
   "outputs": [
    {
     "name": "stdout",
     "output_type": "stream",
     "text": [
      "1. Quem vai ser o responsavel por gerir as finangas da\n",
      "nossa casa?\n",
      "\n",
      "2. Casaremos em separacao total, comunhdao parcial\n",
      "ou comunhao total de bens?\n",
      "\n",
      "3. Conta conjunta ou conta separada?\n",
      "\n",
      "4. Como faremos a divisdo do orgamento da casa?\n",
      "5. Aproveitar ao maximo a vida agora OU poupar para\n",
      "o futuro?\n",
      "\n",
      "6. Como queremos nos aposentar?\n",
      "\n",
      "7. Qual foi o exemplo financeiro familiar que teve em\n",
      "casa? Como vamos ensinar nossos filhos\n",
      "\n",
      "8. Vamos dar o dizimo na igreja?\n",
      "\n",
      "9. Quem ira investir o dinheiro?\n",
      "IN Vincé tam dividac?\n",
      "\n"
     ]
    }
   ],
   "source": [
    "text = pytesseract.image_to_string(thresh, lang=\"eng\")\n",
    "print(text)"
   ]
  },
  {
   "cell_type": "code",
   "execution_count": 8,
   "metadata": {},
   "outputs": [],
   "source": [
    "cv2.imshow('Imagem processada', thresh)\n",
    "cv2.waitKey(0)\n",
    "cv2.destroyAllWindows()"
   ]
  }
 ],
 "metadata": {
  "kernelspec": {
   "display_name": "env",
   "language": "python",
   "name": "python3"
  },
  "language_info": {
   "codemirror_mode": {
    "name": "ipython",
    "version": 3
   },
   "file_extension": ".py",
   "mimetype": "text/x-python",
   "name": "python",
   "nbconvert_exporter": "python",
   "pygments_lexer": "ipython3",
   "version": "3.11.4"
  }
 },
 "nbformat": 4,
 "nbformat_minor": 2
}
