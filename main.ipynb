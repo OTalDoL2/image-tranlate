{
 "cells": [
  {
   "cell_type": "code",
   "execution_count": 1,
   "metadata": {
    "tags": []
   },
   "outputs": [],
   "source": [
    "# Antes de rodar, executar o pip no terminal\n",
    "# pip install opencv-python pytesseract\n",
    "import cv2\n",
    "import pytesseract"
   ]
  },
  {
   "cell_type": "code",
   "execution_count": 19,
   "metadata": {
    "tags": []
   },
   "outputs": [],
   "source": [
    "caminho_imagem = \"./OIP.jpg\"\n",
    "imagem = cv2.imread(caminho_imagem)"
   ]
  },
  {
   "cell_type": "code",
   "execution_count": 20,
   "metadata": {
    "tags": []
   },
   "outputs": [],
   "source": [
    "gray = cv2.cvtColor(imagem, cv2.COLOR_BGR2GRAY)"
   ]
  },
  {
   "cell_type": "code",
   "execution_count": 21,
   "metadata": {
    "tags": []
   },
   "outputs": [
    {
     "data": {
      "text/plain": [
       "array([[255, 255, 255, ...,   0,   0,   0],\n",
       "       [255, 255, 255, ...,   0,   0,   0],\n",
       "       [255, 255, 255, ...,   0,   0,   0],\n",
       "       ...,\n",
       "       [  0,   0,   0, ...,   0,   0,   0],\n",
       "       [  0,   0,   0, ...,   0, 255, 255],\n",
       "       [  0,   0,   0, ...,   0, 255, 255]], dtype=uint8)"
      ]
     },
     "execution_count": 21,
     "metadata": {},
     "output_type": "execute_result"
    }
   ],
   "source": [
    "_, thresh = cv2.threshold(gray, 150, 255, cv2.THRESH_BINARY)\n",
    "thresh"
   ]
  },
  {
   "cell_type": "code",
   "execution_count": 22,
   "metadata": {
    "tags": []
   },
   "outputs": [],
   "source": [
    "pytesseract.pytesseract.tesseract_cmd = r'./tesseract/tesseract.exe'\n",
    "# pytesseract.pytesseract.tesseract_cmd = r'C:\\Users\\Lucas.Ramos\\AppData\\Local\\Tesseract-OCR\\tesseract.exe'"
   ]
  },
  {
   "cell_type": "code",
   "execution_count": 23,
   "metadata": {
    "tags": []
   },
   "outputs": [
    {
     "name": "stdout",
     "output_type": "stream",
     "text": [
      "Chef\n",
      "Joao\n",
      "\n",
      "ALMOCO SEMANAL\n",
      "\n",
      "QUINTA\n",
      "\n",
      "SABADO\n",
      "\n",
      "SEGUNDA\n",
      "\n",
      "QUARTA\n",
      "\n",
      "31.98\n",
      "\n",
      "\n"
     ]
    }
   ],
   "source": [
    "text = pytesseract.image_to_string(thresh, lang=\"eng\")\n",
    "print(text)"
   ]
  },
  {
   "cell_type": "code",
   "execution_count": 24,
   "metadata": {
    "tags": []
   },
   "outputs": [
    {
     "name": "stdout",
     "output_type": "stream",
     "text": [
      "QUINTA\n",
      "\n",
      "Fité Mignon Defumado\n",
      "Camarões à Moda da Casa\n",
      "\n",
      "SEXTA\n",
      "\n",
      "Chapa de Frutos do Mar\n",
      "\n",
      "Contratié Greihado\n",
      "\n",
      "SÁBADO\n",
      "\n",
      "Fil de Peixe com Rócula\n",
      "Satmão Gratinado.\n",
      "Burger Barbecue\n",
      "\n",
      "41.00\n",
      "2100\n",
      "\n",
      "ss.00\n",
      "25,00\n",
      "\n",
      "45.00\n",
      "21.00\n",
      "\n",
      "SEGUNDA\n",
      "\n",
      "TERÇA\n",
      "\n",
      "Filé de Peixe com Rocui\n",
      "Fité Mignon Defumado\n",
      "Salmão Greihado\n",
      "\n",
      "QUARTA\n",
      "\n",
      "ee A\n",
      "\n",
      "Batata Gratinsds\n",
      "Burger Gigante\n",
      "\n",
      "a1.00\n",
      "s2.00\n",
      "\n",
      "a1.00\n",
      "4100\n",
      "a8,00\n",
      "\n",
      "a1.00\n",
      "25,00\n",
      "2100\n",
      "\n",
      "\n"
     ]
    }
   ],
   "source": [
    "config_teste = \"--tessdata-dir teste\"\n",
    "\n",
    "text = pytesseract.image_to_string(\"OIP.jpg\", lang=\"por\", config=config_teste)\n",
    "print(text)"
   ]
  },
  {
   "cell_type": "code",
   "execution_count": 8,
   "metadata": {},
   "outputs": [],
   "source": [
    "cv2.imshow('Imagem processada', thresh)\n",
    "cv2.waitKey(0)\n",
    "cv2.destroyAllWindows()"
   ]
  }
 ],
 "metadata": {
  "kernelspec": {
   "display_name": "Python 3 (ipykernel)",
   "language": "python",
   "name": "python3"
  },
  "language_info": {
   "codemirror_mode": {
    "name": "ipython",
    "version": 3
   },
   "file_extension": ".py",
   "mimetype": "text/x-python",
   "name": "python",
   "nbconvert_exporter": "python",
   "pygments_lexer": "ipython3",
   "version": "3.11.5"
  }
 },
 "nbformat": 4,
 "nbformat_minor": 4
}
